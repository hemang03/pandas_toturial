{
  "nbformat": 4,
  "nbformat_minor": 0,
  "metadata": {
    "colab": {
      "name": "pandas_tutorial_1",
      "provenance": [],
      "collapsed_sections": [],
      "authorship_tag": "ABX9TyNdpuF1eHE/fKrUoaOx0hbS",
      "include_colab_link": true
    },
    "kernelspec": {
      "name": "python3",
      "display_name": "Python 3"
    }
  },
  "cells": [
    {
      "cell_type": "markdown",
      "metadata": {
        "id": "view-in-github",
        "colab_type": "text"
      },
      "source": [
        "<a href=\"https://colab.research.google.com/github/hemang03/pandas_toturial/blob/master/pandas_tutorial_1.ipynb\" target=\"_parent\"><img src=\"https://colab.research.google.com/assets/colab-badge.svg\" alt=\"Open In Colab\"/></a>"
      ]
    },
    {
      "cell_type": "code",
      "metadata": {
        "id": "NGpXZtROKObm",
        "colab_type": "code",
        "colab": {}
      },
      "source": [
        "import pandas as pd"
      ],
      "execution_count": 37,
      "outputs": []
    },
    {
      "cell_type": "code",
      "metadata": {
        "id": "swjW1yblKUyy",
        "colab_type": "code",
        "colab": {}
      },
      "source": [
        "df = pd.read_csv('/content/survey_results_public.csv')"
      ],
      "execution_count": 38,
      "outputs": []
    },
    {
      "cell_type": "code",
      "metadata": {
        "id": "57n_rs7BOJgt",
        "colab_type": "code",
        "colab": {
          "base_uri": "https://localhost:8080/",
          "height": 34
        },
        "outputId": "91621141-f34e-434f-9756-d83097d663da"
      },
      "source": [
        "df.shape"
      ],
      "execution_count": 39,
      "outputs": [
        {
          "output_type": "execute_result",
          "data": {
            "text/plain": [
              "(2370, 154)"
            ]
          },
          "metadata": {
            "tags": []
          },
          "execution_count": 39
        }
      ]
    },
    {
      "cell_type": "code",
      "metadata": {
        "id": "WuJBtjoZOUdM",
        "colab_type": "code",
        "colab": {
          "base_uri": "https://localhost:8080/",
          "height": 101
        },
        "outputId": "07a09024-19d8-4dc4-d2c8-df5c285ae9fb"
      },
      "source": [
        "df.info()"
      ],
      "execution_count": 40,
      "outputs": [
        {
          "output_type": "stream",
          "text": [
            "<class 'pandas.core.frame.DataFrame'>\n",
            "RangeIndex: 2370 entries, 0 to 2369\n",
            "Columns: 154 entries, Respondent to ExpectedSalary\n",
            "dtypes: float64(6), int64(1), object(147)\n",
            "memory usage: 2.8+ MB\n"
          ],
          "name": "stdout"
        }
      ]
    },
    {
      "cell_type": "code",
      "metadata": {
        "id": "F8RcNs4ZOdfN",
        "colab_type": "code",
        "colab": {}
      },
      "source": [
        "pd.set_option('display.max_columns' , 32)"
      ],
      "execution_count": 41,
      "outputs": []
    },
    {
      "cell_type": "code",
      "metadata": {
        "id": "_EyQBHkkOwIz",
        "colab_type": "code",
        "colab": {}
      },
      "source": [
        "schema_df = pd.read_csv('/content/survey_results_schema.csv')"
      ],
      "execution_count": 42,
      "outputs": []
    },
    {
      "cell_type": "code",
      "metadata": {
        "id": "CjYPNBevQe6X",
        "colab_type": "code",
        "colab": {}
      },
      "source": [
        "pd.set_option('display.max_columns' , 85)"
      ],
      "execution_count": 43,
      "outputs": []
    },
    {
      "cell_type": "code",
      "metadata": {
        "id": "Bf6E_4rBREhX",
        "colab_type": "code",
        "colab": {
          "base_uri": "https://localhost:8080/",
          "height": 402
        },
        "outputId": "6db4a6b7-ab52-4217-c599-c974192d14d4"
      },
      "source": [
        "schema_df"
      ],
      "execution_count": 44,
      "outputs": [
        {
          "output_type": "execute_result",
          "data": {
            "text/html": [
              "<div>\n",
              "<style scoped>\n",
              "    .dataframe tbody tr th:only-of-type {\n",
              "        vertical-align: middle;\n",
              "    }\n",
              "\n",
              "    .dataframe tbody tr th {\n",
              "        vertical-align: top;\n",
              "    }\n",
              "\n",
              "    .dataframe thead th {\n",
              "        text-align: right;\n",
              "    }\n",
              "</style>\n",
              "<table border=\"1\" class=\"dataframe\">\n",
              "  <thead>\n",
              "    <tr style=\"text-align: right;\">\n",
              "      <th></th>\n",
              "      <th>Column</th>\n",
              "      <th>Question</th>\n",
              "    </tr>\n",
              "  </thead>\n",
              "  <tbody>\n",
              "    <tr>\n",
              "      <th>0</th>\n",
              "      <td>Respondent</td>\n",
              "      <td>Respondent ID number</td>\n",
              "    </tr>\n",
              "    <tr>\n",
              "      <th>1</th>\n",
              "      <td>Professional</td>\n",
              "      <td>Which of the following best describes you?</td>\n",
              "    </tr>\n",
              "    <tr>\n",
              "      <th>2</th>\n",
              "      <td>ProgramHobby</td>\n",
              "      <td>Do you program as a hobby or contribute to ope...</td>\n",
              "    </tr>\n",
              "    <tr>\n",
              "      <th>3</th>\n",
              "      <td>Country</td>\n",
              "      <td>In which country do you currently live?</td>\n",
              "    </tr>\n",
              "    <tr>\n",
              "      <th>4</th>\n",
              "      <td>University</td>\n",
              "      <td>Are you currently enrolled in a formal, degree...</td>\n",
              "    </tr>\n",
              "    <tr>\n",
              "      <th>...</th>\n",
              "      <td>...</td>\n",
              "      <td>...</td>\n",
              "    </tr>\n",
              "    <tr>\n",
              "      <th>149</th>\n",
              "      <td>QuestionsInteresting</td>\n",
              "      <td>The questions were interesting</td>\n",
              "    </tr>\n",
              "    <tr>\n",
              "      <th>150</th>\n",
              "      <td>QuestionsConfusing</td>\n",
              "      <td>The questions were confusing</td>\n",
              "    </tr>\n",
              "    <tr>\n",
              "      <th>151</th>\n",
              "      <td>InterestedAnswers</td>\n",
              "      <td>I'm interested in learning how other developer...</td>\n",
              "    </tr>\n",
              "    <tr>\n",
              "      <th>152</th>\n",
              "      <td>Salary</td>\n",
              "      <td>What is your current annual base salary, befor...</td>\n",
              "    </tr>\n",
              "    <tr>\n",
              "      <th>153</th>\n",
              "      <td>ExpectedSalary</td>\n",
              "      <td>You said before that you are currently learnin...</td>\n",
              "    </tr>\n",
              "  </tbody>\n",
              "</table>\n",
              "<p>154 rows × 2 columns</p>\n",
              "</div>"
            ],
            "text/plain": [
              "                   Column                                           Question\n",
              "0              Respondent                               Respondent ID number\n",
              "1            Professional         Which of the following best describes you?\n",
              "2            ProgramHobby  Do you program as a hobby or contribute to ope...\n",
              "3                 Country            In which country do you currently live?\n",
              "4              University  Are you currently enrolled in a formal, degree...\n",
              "..                    ...                                                ...\n",
              "149  QuestionsInteresting                     The questions were interesting\n",
              "150    QuestionsConfusing                       The questions were confusing\n",
              "151     InterestedAnswers  I'm interested in learning how other developer...\n",
              "152                Salary  What is your current annual base salary, befor...\n",
              "153        ExpectedSalary  You said before that you are currently learnin...\n",
              "\n",
              "[154 rows x 2 columns]"
            ]
          },
          "metadata": {
            "tags": []
          },
          "execution_count": 44
        }
      ]
    },
    {
      "cell_type": "code",
      "metadata": {
        "id": "k9X3_VTPRGk9",
        "colab_type": "code",
        "colab": {}
      },
      "source": [
        "pd.set_option('display.max_rows' , 85)"
      ],
      "execution_count": 45,
      "outputs": []
    },
    {
      "cell_type": "code",
      "metadata": {
        "id": "CadYDxNsRYjF",
        "colab_type": "code",
        "colab": {
          "base_uri": "https://localhost:8080/",
          "height": 402
        },
        "outputId": "ee18609e-24c9-4c8e-d668-5e62363b44c3"
      },
      "source": [
        "schema_df"
      ],
      "execution_count": 46,
      "outputs": [
        {
          "output_type": "execute_result",
          "data": {
            "text/html": [
              "<div>\n",
              "<style scoped>\n",
              "    .dataframe tbody tr th:only-of-type {\n",
              "        vertical-align: middle;\n",
              "    }\n",
              "\n",
              "    .dataframe tbody tr th {\n",
              "        vertical-align: top;\n",
              "    }\n",
              "\n",
              "    .dataframe thead th {\n",
              "        text-align: right;\n",
              "    }\n",
              "</style>\n",
              "<table border=\"1\" class=\"dataframe\">\n",
              "  <thead>\n",
              "    <tr style=\"text-align: right;\">\n",
              "      <th></th>\n",
              "      <th>Column</th>\n",
              "      <th>Question</th>\n",
              "    </tr>\n",
              "  </thead>\n",
              "  <tbody>\n",
              "    <tr>\n",
              "      <th>0</th>\n",
              "      <td>Respondent</td>\n",
              "      <td>Respondent ID number</td>\n",
              "    </tr>\n",
              "    <tr>\n",
              "      <th>1</th>\n",
              "      <td>Professional</td>\n",
              "      <td>Which of the following best describes you?</td>\n",
              "    </tr>\n",
              "    <tr>\n",
              "      <th>2</th>\n",
              "      <td>ProgramHobby</td>\n",
              "      <td>Do you program as a hobby or contribute to ope...</td>\n",
              "    </tr>\n",
              "    <tr>\n",
              "      <th>3</th>\n",
              "      <td>Country</td>\n",
              "      <td>In which country do you currently live?</td>\n",
              "    </tr>\n",
              "    <tr>\n",
              "      <th>4</th>\n",
              "      <td>University</td>\n",
              "      <td>Are you currently enrolled in a formal, degree...</td>\n",
              "    </tr>\n",
              "    <tr>\n",
              "      <th>...</th>\n",
              "      <td>...</td>\n",
              "      <td>...</td>\n",
              "    </tr>\n",
              "    <tr>\n",
              "      <th>149</th>\n",
              "      <td>QuestionsInteresting</td>\n",
              "      <td>The questions were interesting</td>\n",
              "    </tr>\n",
              "    <tr>\n",
              "      <th>150</th>\n",
              "      <td>QuestionsConfusing</td>\n",
              "      <td>The questions were confusing</td>\n",
              "    </tr>\n",
              "    <tr>\n",
              "      <th>151</th>\n",
              "      <td>InterestedAnswers</td>\n",
              "      <td>I'm interested in learning how other developer...</td>\n",
              "    </tr>\n",
              "    <tr>\n",
              "      <th>152</th>\n",
              "      <td>Salary</td>\n",
              "      <td>What is your current annual base salary, befor...</td>\n",
              "    </tr>\n",
              "    <tr>\n",
              "      <th>153</th>\n",
              "      <td>ExpectedSalary</td>\n",
              "      <td>You said before that you are currently learnin...</td>\n",
              "    </tr>\n",
              "  </tbody>\n",
              "</table>\n",
              "<p>154 rows × 2 columns</p>\n",
              "</div>"
            ],
            "text/plain": [
              "                   Column                                           Question\n",
              "0              Respondent                               Respondent ID number\n",
              "1            Professional         Which of the following best describes you?\n",
              "2            ProgramHobby  Do you program as a hobby or contribute to ope...\n",
              "3                 Country            In which country do you currently live?\n",
              "4              University  Are you currently enrolled in a formal, degree...\n",
              "..                    ...                                                ...\n",
              "149  QuestionsInteresting                     The questions were interesting\n",
              "150    QuestionsConfusing                       The questions were confusing\n",
              "151     InterestedAnswers  I'm interested in learning how other developer...\n",
              "152                Salary  What is your current annual base salary, befor...\n",
              "153        ExpectedSalary  You said before that you are currently learnin...\n",
              "\n",
              "[154 rows x 2 columns]"
            ]
          },
          "metadata": {
            "tags": []
          },
          "execution_count": 46
        }
      ]
    },
    {
      "cell_type": "code",
      "metadata": {
        "id": "ot_0yOE5RVxG",
        "colab_type": "code",
        "colab": {}
      },
      "source": [
        ""
      ],
      "execution_count": 46,
      "outputs": []
    },
    {
      "cell_type": "code",
      "metadata": {
        "id": "XO0mckLeRCRY",
        "colab_type": "code",
        "colab": {}
      },
      "source": [
        ""
      ],
      "execution_count": 46,
      "outputs": []
    },
    {
      "cell_type": "code",
      "metadata": {
        "id": "3aK8NoU1Qxk4",
        "colab_type": "code",
        "colab": {}
      },
      "source": [
        ""
      ],
      "execution_count": 46,
      "outputs": []
    },
    {
      "cell_type": "code",
      "metadata": {
        "id": "qhioW-2BOOXl",
        "colab_type": "code",
        "colab": {}
      },
      "source": [
        ""
      ],
      "execution_count": 46,
      "outputs": []
    }
  ]
}